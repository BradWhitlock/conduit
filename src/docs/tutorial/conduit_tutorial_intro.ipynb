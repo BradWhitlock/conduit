{
 "metadata": {
  "name": "",
  "signature": "sha256:34d5ccb52b4c5de789d8a942336c01094a8e917a552216a576a7545e1105c0ec"
 },
 "nbformat": 3,
 "nbformat_minor": 0,
 "worksheets": [
  {
   "cells": [
    {
     "cell_type": "code",
     "collapsed": false,
     "input": [
      "%load_ext conduitcppmagic"
     ],
     "language": "python",
     "metadata": {},
     "outputs": [],
     "prompt_number": 1
    },
    {
     "cell_type": "markdown",
     "metadata": {},
     "source": [
      "What is Conduit?\n",
      "----------------\n",
      "\n",
      "###Conduit is C++ API that provides:\n",
      "\n",
      "* ###A flexible way to describe complex data:\n",
      "    * ### A JSON-based schema for describing hierarchical in-core data structures. \n",
      "\n",
      "* ###A sane API to access complex data:\n",
      "    * ### A dynamic C++ API for rapid construction and consumption of hierarchical objects.\n",
      "\n",
      "### This notebook provides C++ examples that demonstrate conduit's features."
     ]
    },
    {
     "cell_type": "markdown",
     "metadata": {},
     "source": [
      "---------\n",
      "### The *Node* class is the primary object in conduit. \n",
      "### Think of it as a hierarchical variant object."
     ]
    },
    {
     "cell_type": "code",
     "collapsed": false,
     "input": [
      "%%conduitcpp\n",
      "\n",
      "Node n;\n",
      "n[\"my\"] = \"data\";\n",
      "n.print(); "
     ],
     "language": "python",
     "metadata": {},
     "outputs": [
      {
       "output_type": "stream",
       "stream": "stdout",
       "text": [
        "\n",
        "{\n",
        "  \"my\": \"data\"\n",
        "}\n"
       ]
      }
     ],
     "prompt_number": 2
    },
    {
     "cell_type": "markdown",
     "metadata": {},
     "source": [
      "### The *Node* class supports hierarchical construction "
     ]
    },
    {
     "cell_type": "code",
     "collapsed": false,
     "input": [
      "%%conduitcpp\n",
      "\n",
      "Node n;\n",
      "n[\"my\"] = \"data\";\n",
      "n[\"a/b/c\"] = \"d\";\n",
      "n[\"a\"][\"b\"][\"e\"] = 64.0;\n",
      "n.print();\n",
      "\n",
      "std::cout << \"total bytes: \" << n.total_bytes() << std::endl;\n"
     ],
     "language": "python",
     "metadata": {},
     "outputs": [
      {
       "output_type": "stream",
       "stream": "stdout",
       "text": [
        "\n",
        "{\n",
        "  \"my\": \"data\",\n",
        "  \"a\": \n",
        "  {\n",
        "    \"b\": \n",
        "    {\n",
        "      \"c\": \"d\",\n",
        "      \"e\": 64\n",
        "    }\n",
        "  }\n",
        "}\n",
        "total bytes: 15\n"
       ]
      }
     ],
     "prompt_number": 3
    },
    {
     "cell_type": "markdown",
     "metadata": {},
     "source": [
      "### Behind the scenes, *Node* instances manage a collection of memory spaces "
     ]
    },
    {
     "cell_type": "code",
     "collapsed": false,
     "input": [
      "%%conduitcpp\n",
      "\n",
      "Node n;\n",
      "n[\"my\"] = \"data\";\n",
      "n[\"a/b/c\"] = \"d\";\n",
      "n[\"a\"][\"b\"][\"e\"] = 64.0;\n",
      "\n",
      "\n",
      "Node ninfo;\n",
      "n.info(ninfo);\n",
      "ninfo.print();"
     ],
     "language": "python",
     "metadata": {},
     "outputs": [
      {
       "output_type": "stream",
       "stream": "stdout",
       "text": [
        "\n",
        "{\n",
        "  \"mem_spaces\": \n",
        "  {\n",
        "    \"0x7fd470c03dc0\": \n",
        "    {\n",
        "      \"path\": \"my\",\n",
        "      \"type\": \"alloced\",\n",
        "      \"bytes\": 5\n",
        "    },\n",
        "    \"0x7fd470c04290\": \n",
        "    {\n",
        "      \"path\": \"a/b/c\",\n",
        "      \"type\": \"alloced\",\n",
        "      \"bytes\": 2\n",
        "    },\n",
        "    \"0x7fd470c04280\": \n",
        "    {\n",
        "      \"path\": \"a/b/e\",\n",
        "      \"type\": \"alloced\",\n",
        "      \"bytes\": 8\n",
        "    }\n",
        "  },\n",
        "  \"total_bytes\": 15,\n",
        "  \"total_bytes_compact\": 15,\n",
        "  \"total_bytes_alloced\": 15,\n",
        "  \"total_bytes_mmaped\": 0\n",
        "}\n"
       ]
      }
     ],
     "prompt_number": 4
    },
    {
     "cell_type": "markdown",
     "metadata": {},
     "source": [
      "#### When sharing data in scientific codes, knowing the precision of the underlining types is very imporant.\n",
      "#### Conduit uses well defined bitwidth style types (ala numpy) for leaf values."
     ]
    },
    {
     "cell_type": "code",
     "collapsed": false,
     "input": [
      "%%conduitcpp\n",
      "\n",
      "Node n;\n",
      "uint32 val = 100;\n",
      "n[\"test\"] = val;\n",
      "n.print();\n",
      "n.print_detailed();"
     ],
     "language": "python",
     "metadata": {},
     "outputs": [
      {
       "output_type": "stream",
       "stream": "stdout",
       "text": [
        "\n",
        "{\n",
        "  \"test\": 100\n",
        "}\n",
        "\n",
        "{\n",
        "  \"test\": {\"dtype\":\"uint32\", \"length\": 1, \"endianness\": \"little\", \"value\": 100}\n",
        "}\n"
       ]
      }
     ],
     "prompt_number": 5
    },
    {
     "cell_type": "markdown",
     "metadata": {},
     "source": [
      "### Standard C++ numeric types will be mapped by the compiler to bitwidth style types."
     ]
    },
    {
     "cell_type": "code",
     "collapsed": false,
     "input": [
      "%%conduitcpp\n",
      "Node n;\n",
      "int val = 100;\n",
      "n[\"test\"] = val;\n",
      "n.print_detailed();"
     ],
     "language": "python",
     "metadata": {},
     "outputs": [
      {
       "output_type": "stream",
       "stream": "stdout",
       "text": [
        "\n",
        "{\n",
        "  \"test\": {\"dtype\":\"int32\", \"length\": 1, \"endianness\": \"little\", \"value\": 100}\n",
        "}\n"
       ]
      }
     ],
     "prompt_number": 6
    },
    {
     "cell_type": "markdown",
     "metadata": {},
     "source": [
      "### Supported Bitwidth Style Types:\n",
      "* ####bool8\n",
      "* ####int8,int16,int32,int64\n",
      "* ####uint8,uint16,uint32,uint64\n",
      "* ####float32,float64\n"
     ]
    },
    {
     "cell_type": "markdown",
     "metadata": {},
     "source": [
      "### The *Generator* class is used to parse conduit JSON schemas into a *Node*"
     ]
    },
    {
     "cell_type": "code",
     "collapsed": false,
     "input": [
      "%%conduitcpp\n",
      "\n",
      "\n",
      "Generator g(\"{test: {dtype: float64, value: 100.0}}\",\"conduit\");\n",
      "\n",
      "Node n(g);\n",
      "std::cout << n[\"test\"].as_float64() <<std::endl;\n",
      "n.print();\n",
      "n.print_detailed();"
     ],
     "language": "python",
     "metadata": {},
     "outputs": [
      {
       "output_type": "stream",
       "stream": "stdout",
       "text": [
        "100\n",
        "\n",
        "{\n",
        "  \"test\": 100\n",
        "}\n",
        "\n",
        "{\n",
        "  \"test\": {\"dtype\":\"float64\", \"length\": 1, \"endianness\": \"little\", \"value\": 100}\n",
        "}\n"
       ]
      }
     ],
     "prompt_number": 7
    },
    {
     "cell_type": "markdown",
     "metadata": {},
     "source": [
      "### The *Generator* can also parse pure json. For leaf nodes: wide types such as *int64*, *uint64*, and *float64* are inferred."
     ]
    },
    {
     "cell_type": "code",
     "collapsed": false,
     "input": [
      "%%conduitcpp\n",
      "\n",
      "Generator g(\"{test: 100.0}\",\"json\");\n",
      "\n",
      "Node n(g);\n",
      "std::cout << n[\"test\"].as_float64() <<std::endl;\n",
      "n.print_detailed();\n",
      "n.print();"
     ],
     "language": "python",
     "metadata": {},
     "outputs": [
      {
       "output_type": "stream",
       "stream": "stdout",
       "text": [
        "100\n",
        "\n",
        "{\n",
        "  \"test\": {\"dtype\":\"float64\", \"length\": 1, \"endianness\": \"little\", \"value\": 100}\n",
        "}\n",
        "\n",
        "{\n",
        "  \"test\": 100\n",
        "}\n"
       ]
      }
     ],
     "prompt_number": 8
    },
    {
     "cell_type": "markdown",
     "metadata": {},
     "source": [
      "### Schemas can easily be bound to in-core data"
     ]
    },
    {
     "cell_type": "code",
     "collapsed": false,
     "input": [
      "%%conduitcpp\n",
      "\n",
      "float64 vals[2];\n",
      "Generator g(\"{a: {dtype: float64, value: 100.0}, b: {dtype: float64, value: 200.0} }\",vals);\n",
      "\n",
      "Node n(g);\n",
      "std::cout << n[\"a\"].as_float64() << \" vs \" << vals[0] << std::endl; \n",
      "std::cout << n[\"b\"].as_float64() << \" vs \" << vals[1] << std::endl; \n",
      "\n",
      "n.print();\n",
      "                \n",
      "Node ninfo;\n",
      "n.info(ninfo);\n",
      "ninfo.print();"
     ],
     "language": "python",
     "metadata": {},
     "outputs": [
      {
       "output_type": "stream",
       "stream": "stdout",
       "text": [
        "100 vs 100\n",
        "200 vs 200\n",
        "\n",
        "{\n",
        "  \"a\": 100,\n",
        "  \"b\": 200\n",
        "}\n",
        "\n",
        "{\n",
        "  \"mem_spaces\": \n",
        "  {\n",
        "    \"0x7fff53f72660\": \n",
        "    {\n",
        "      \"path\": \"a\",\n",
        "      \"type\": \"external\"\n",
        "    }\n",
        "  },\n",
        "  \"total_bytes\": 16,\n",
        "  \"total_bytes_compact\": 16,\n",
        "  \"total_bytes_alloced\": 0,\n",
        "  \"total_bytes_mmaped\": 0\n",
        "}\n"
       ]
      }
     ],
     "prompt_number": 9
    },
    {
     "cell_type": "markdown",
     "metadata": {},
     "source": [
      "### *Nodes* can be compacted for serialization"
     ]
    },
    {
     "cell_type": "code",
     "collapsed": false,
     "input": [
      "%%conduitcpp\n",
      "\n",
      "float64 vals[] = { 100.0,-100.0,200.0,-200.0,300.0,-300.0,400.0,-400.0,500.0,-500.0};\n",
      "Generator g1(\"{dtype: float64, length: 5, stride: 16}\",vals);\n",
      "Generator g2(\"{dtype: float64, length: 5, stride: 16, offset:8}\",vals);\n",
      "\n",
      "\n",
      "Node n1(g1);\n",
      "n1.print();\n",
      "\n",
      "Node n2(g2);\n",
      "n2.print();\n",
      "\n",
      "Node ninfo;\n",
      "n1.info(ninfo);\n",
      "ninfo.print();\n",
      "\n",
      "\n",
      "Node n1c;\n",
      "n1.compact_to(n1c);\n",
      "\n",
      "n1c.print();\n",
      "n1c.info(ninfo);\n",
      "ninfo.print();\n",
      "\n",
      "Node n2c;\n",
      "n2.compact_to(n2c);\n",
      "\n",
      "n2c.print();\n",
      "n2c.info(ninfo);\n",
      "ninfo.print();\n"
     ],
     "language": "python",
     "metadata": {},
     "outputs": [
      {
       "output_type": "stream",
       "stream": "stdout",
       "text": [
        "[100, 200, 300, 400, 500]\n",
        "[-100, -200, -300, -400, -500]\n",
        "\n",
        "{\n",
        "  \"mem_spaces\": \n",
        "  {\n",
        "    \"0x7fff5d225680\": \n",
        "    {\n",
        "      \"path\": \"\",\n",
        "      \"type\": \"external\"\n",
        "    }\n",
        "  },\n",
        "  \"total_bytes\": 80,\n",
        "  \"total_bytes_compact\": 40,\n",
        "  \"total_bytes_alloced\": 0,\n",
        "  \"total_bytes_mmaped\": 0\n",
        "}\n",
        "[100, 200, 300, 400, 500]\n",
        "\n",
        "{\n",
        "  \"mem_spaces\": \n",
        "  {\n",
        "    \"0x7f94f9500f50\": \n",
        "    {\n",
        "      \"path\": \"\",\n",
        "      \"type\": \"alloced\",\n",
        "      \"bytes\": 40\n",
        "    }\n",
        "  },\n",
        "  \"total_bytes\": 40,\n",
        "  \"total_bytes_compact\": 40,\n",
        "  \"total_bytes_alloced\": 40,\n",
        "  \"total_bytes_mmaped\": 0\n",
        "}\n",
        "[-100, -200, -300, -400, -500]\n",
        "\n",
        "{\n",
        "  \"mem_spaces\": \n",
        "  {\n",
        "    \"0x7f94f95006b0\": \n",
        "    {\n",
        "      \"path\": \"\",\n",
        "      \"type\": \"alloced\",\n",
        "      \"bytes\": 40\n",
        "    }\n",
        "  },\n",
        "  \"total_bytes\": 40,\n",
        "  \"total_bytes_compact\": 40,\n",
        "  \"total_bytes_alloced\": 40,\n",
        "  \"total_bytes_mmaped\": 0\n",
        "}\n"
       ]
      }
     ],
     "prompt_number": 10
    }
   ],
   "metadata": {}
  }
 ]
}