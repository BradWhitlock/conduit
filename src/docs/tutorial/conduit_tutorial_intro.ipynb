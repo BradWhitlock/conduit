{
 "metadata": {
  "name": "",
  "signature": "sha256:4e87bba2dc9cc25aa3ef393d6e5bf8bb85c69c230a1efd4434c5f2e8d002d391"
 },
 "nbformat": 3,
 "nbformat_minor": 0,
 "worksheets": [
  {
   "cells": [
    {
     "cell_type": "markdown",
     "metadata": {},
     "source": [
      "What is Conduit?\n",
      "----------------\n",
      "\n",
      "###Conduit is a C++ API that provides:\n",
      "\n",
      "* ###A flexible a way to describe complex data:\n",
      "    * ### A JSON-based schema for describing hierarchal in-core data structures. \n",
      "\n",
      "* ###A sane API to access complex data:\n",
      "    * ### A dynamic C++ API for rapid construction and consumption of hierarchal objects.\n",
      "\n",
      "### This notebook provides C++ examples that demonstrate conduit's features."
     ]
    },
    {
     "cell_type": "code",
     "collapsed": false,
     "input": [
      "%load_ext conduitcppmagic"
     ],
     "language": "python",
     "metadata": {},
     "outputs": [
      {
       "output_type": "stream",
       "stream": "stdout",
       "text": [
        "The conduitcppmagic extension is already loaded. To reload it, use:\n",
        "  %reload_ext conduitcppmagic\n"
       ]
      }
     ],
     "prompt_number": 12
    },
    {
     "cell_type": "markdown",
     "metadata": {},
     "source": [
      "### The *Node* class is the primary object in conduit. \n",
      "### Think of it as a shape shifting hierarhcal object."
     ]
    },
    {
     "cell_type": "code",
     "collapsed": false,
     "input": [
      "%%conduitcpp\n",
      "\n",
      "Node n;\n",
      "n[\"my\"] = \"data\";\n",
      "n.print(); "
     ],
     "language": "python",
     "metadata": {},
     "outputs": [
      {
       "output_type": "stream",
       "stream": "stdout",
       "text": [
        "\n",
        "{\n",
        "  \"my\": \"data\"\n",
        "}\n"
       ]
      }
     ],
     "prompt_number": 13
    },
    {
     "cell_type": "markdown",
     "metadata": {},
     "source": [
      "### The *Node* class supports hierarchial construction "
     ]
    },
    {
     "cell_type": "code",
     "collapsed": false,
     "input": [
      "%%conduitcpp\n",
      "\n",
      "Node n;\n",
      "n[\"my\"] = \"data\";\n",
      "n[\"a/b/c\"] = \"d\";\n",
      "n[\"a\"][\"b\"][\"e\"] = 64.0;\n",
      "n.print();\n"
     ],
     "language": "python",
     "metadata": {},
     "outputs": [
      {
       "output_type": "stream",
       "stream": "stdout",
       "text": [
        "\n",
        "{\n",
        "  \"my\": \"data\",\n",
        "  \"a\": \n",
        "  {\n",
        "    \"b\": \n",
        "    {\n",
        "      \"c\": \"d\",\n",
        "      \"e\": 64\n",
        "    }\n",
        "  }\n",
        "}\n"
       ]
      }
     ],
     "prompt_number": 14
    },
    {
     "cell_type": "markdown",
     "metadata": {},
     "source": [
      "### Behind the scenes, *Node* instances manage a collection of memory spaces "
     ]
    },
    {
     "cell_type": "code",
     "collapsed": false,
     "input": [
      "%%conduitcpp\n",
      "\n",
      "Node n;\n",
      "n[\"my\"] = \"data\";\n",
      "n[\"a/b/c\"] = \"d\";\n",
      "n[\"a\"][\"b\"][\"e\"] = 64.0;\n",
      "\n",
      "\n",
      "Node ninfo;\n",
      "n.info(ninfo);\n",
      "ninfo.print();"
     ],
     "language": "python",
     "metadata": {},
     "outputs": [
      {
       "output_type": "stream",
       "stream": "stdout",
       "text": [
        "\n",
        "{\n",
        "  \"mem_spaces\": \n",
        "  {\n",
        "    \"0x7fcb8a403db0\": \n",
        "    {\n",
        "      \"path\": \"my\",\n",
        "      \"type\": \"alloced\",\n",
        "      \"bytes\": 5\n",
        "    },\n",
        "    \"0x7fcb8a404310\": \n",
        "    {\n",
        "      \"path\": \"a/b/c\",\n",
        "      \"type\": \"alloced\",\n",
        "      \"bytes\": 2\n",
        "    },\n",
        "    \"0x7fcb8a404300\": \n",
        "    {\n",
        "      \"path\": \"a/b/e\",\n",
        "      \"type\": \"alloced\",\n",
        "      \"bytes\": 8\n",
        "    }\n",
        "  },\n",
        "  \"total_bytes\": 15,\n",
        "  \"total_bytes_compact\": 15,\n",
        "  \"total_bytes_alloced\": 15,\n",
        "  \"total_bytes_mmaped\": 0\n",
        "}\n"
       ]
      }
     ],
     "prompt_number": 15
    },
    {
     "cell_type": "markdown",
     "metadata": {},
     "source": [
      "### *Nodes* can be compacted for serialization"
     ]
    },
    {
     "cell_type": "code",
     "collapsed": false,
     "input": [
      "%%conduitcpp\n",
      "/*\n",
      "\n",
      "// TODO FIX THIS!\n",
      "Node n;\n",
      "n[\"my\"] = \"data\";\n",
      "n[\"a/b/c\"] = \"d\";\n",
      "\n",
      "Node nc;\n",
      "n.compact_to(nc);\n",
      "\n",
      "Node ninfo;\n",
      "nc.info(ninfo);\n",
      "ninfo.print();\n",
      "*/\n"
     ],
     "language": "python",
     "metadata": {},
     "outputs": [],
     "prompt_number": 16
    },
    {
     "cell_type": "markdown",
     "metadata": {},
     "source": [
      "#### When sharing data in scientific codes, knowing the percision of the underlining types is very imporant.\n",
      "#### Conduit uses well defined bitwidth style types (ala numpy) for leaf values."
     ]
    },
    {
     "cell_type": "code",
     "collapsed": false,
     "input": [
      "%%conduitcpp\n",
      "\n",
      "Node n;\n",
      "uint32 val = 100;\n",
      "n[\"test\"] = val;\n",
      "n.print();\n",
      "n.print_detailed();"
     ],
     "language": "python",
     "metadata": {},
     "outputs": [
      {
       "output_type": "stream",
       "stream": "stdout",
       "text": [
        "\n",
        "{\n",
        "  \"test\": 100\n",
        "}\n",
        "\n",
        "{\n",
        "  \"test\": {\"dtype\":\"uint32\", \"length\": 1, \"endianness\": \"little\", \"value\": 100}\n",
        "}\n"
       ]
      }
     ],
     "prompt_number": 17
    },
    {
     "cell_type": "markdown",
     "metadata": {},
     "source": [
      "Standard C++ numeric types will be mapped by the compiler to bitwidth style types."
     ]
    },
    {
     "cell_type": "code",
     "collapsed": false,
     "input": [
      "%%conduitcpp\n",
      "Node n;\n",
      "int val = 100;\n",
      "n[\"test\"] = val;\n",
      "n.print_detailed();"
     ],
     "language": "python",
     "metadata": {},
     "outputs": [
      {
       "output_type": "stream",
       "stream": "stdout",
       "text": [
        "\n",
        "{\n",
        "  \"test\": {\"dtype\":\"int32\", \"length\": 1, \"endianness\": \"little\", \"value\": 100}\n",
        "}\n"
       ]
      }
     ],
     "prompt_number": 18
    },
    {
     "cell_type": "markdown",
     "metadata": {},
     "source": [
      "### Supported Bitwidth Style Types:\n",
      "* ####bool8\n",
      "* ####int8,int16,int32,int64\n",
      "* ####uint8,uint16,uint32,uint64\n",
      "* ####float32,float64\n"
     ]
    },
    {
     "cell_type": "markdown",
     "metadata": {},
     "source": [
      "### The *Generator* class is used to parse conduit JSON schemas into a *Node*"
     ]
    },
    {
     "cell_type": "code",
     "collapsed": false,
     "input": [
      "%%conduitcpp\n",
      "\n",
      "\n",
      "Generator g(\"{test: {dtype: float64, value: 100.0}}\",\"conduit\");\n",
      "\n",
      "Node n(g);\n",
      "std::cout << n[\"test\"].as_float64() <<std::endl;\n",
      "n.print();\n",
      "n.print_detailed();"
     ],
     "language": "python",
     "metadata": {},
     "outputs": [
      {
       "output_type": "stream",
       "stream": "stdout",
       "text": [
        "100\n",
        "\n",
        "{\n",
        "  \"test\": 100\n",
        "}\n",
        "\n",
        "{\n",
        "  \"test\": {\"dtype\":\"float64\", \"length\": 1, \"endianness\": \"little\", \"value\": 100}\n",
        "}\n"
       ]
      }
     ],
     "prompt_number": 19
    },
    {
     "cell_type": "markdown",
     "metadata": {},
     "source": [
      "### The *Generator* can also parse pure json. For leaf nodes: wide types such as *int64*, *uint64*, and *float64* are inferred."
     ]
    },
    {
     "cell_type": "code",
     "collapsed": false,
     "input": [
      "%%conduitcpp\n",
      "\n",
      "Generator g(\"{test: 100.0}\",\"json\");\n",
      "\n",
      "Node n(g);\n",
      "std::cout << n[\"test\"].as_float64() <<std::endl;\n",
      "n.print_detailed();\n",
      "n.print();"
     ],
     "language": "python",
     "metadata": {},
     "outputs": [
      {
       "output_type": "stream",
       "stream": "stdout",
       "text": [
        "100\n",
        "\n",
        "{\n",
        "  \"test\": {\"dtype\":\"float64\", \"length\": 1, \"endianness\": \"little\", \"value\": 100}\n",
        "}\n",
        "\n",
        "{\n",
        "  \"test\": 100\n",
        "}\n"
       ]
      }
     ],
     "prompt_number": 20
    },
    {
     "cell_type": "markdown",
     "metadata": {},
     "source": [
      "### Schemas can easily be bound to in-core data"
     ]
    },
    {
     "cell_type": "code",
     "collapsed": false,
     "input": [
      "%%conduitcpp\n",
      "\n",
      "float64 vals[2];\n",
      "Generator g(\"{a: {dtype: float64, value: 100.0}, b: {dtype: float64, value: 200.0} }\",\"conduit\",vals);\n",
      "\n",
      "Node n(g);\n",
      "std::cout << n[\"a\"].as_float64() << \" vs \" << vals[0] << std::endl; \n",
      "std::cout << n[\"b\"].as_float64() << \" vs \" << vals[1] << std::endl; \n",
      "\n",
      "n.print();\n",
      "                \n",
      "Node ninfo;\n",
      "n.info(ninfo);\n",
      "ninfo.print();"
     ],
     "language": "python",
     "metadata": {},
     "outputs": [
      {
       "output_type": "stream",
       "stream": "stdout",
       "text": [
        "100 vs 100\n",
        "200 vs 200\n",
        "\n",
        "{\n",
        "  \"a\": 100,\n",
        "  \"b\": 200\n",
        "}\n",
        "\n",
        "{\n",
        "  \"mem_spaces\": \n",
        "  {\n",
        "    \"0x7fff50fd3610\": \n",
        "    {\n",
        "      \"path\": \"a\",\n",
        "      \"type\": \"external\"\n",
        "    }\n",
        "  },\n",
        "  \"total_bytes\": 16,\n",
        "  \"total_bytes_compact\": 16,\n",
        "  \"total_bytes_alloced\": 0,\n",
        "  \"total_bytes_mmaped\": 0\n",
        "}\n"
       ]
      }
     ],
     "prompt_number": 11
    },
    {
     "cell_type": "code",
     "collapsed": false,
     "input": [],
     "language": "python",
     "metadata": {},
     "outputs": [],
     "prompt_number": 10
    },
    {
     "cell_type": "code",
     "collapsed": false,
     "input": [],
     "language": "python",
     "metadata": {},
     "outputs": [],
     "prompt_number": 10
    },
    {
     "cell_type": "code",
     "collapsed": false,
     "input": [],
     "language": "python",
     "metadata": {},
     "outputs": []
    }
   ],
   "metadata": {}
  }
 ]
}