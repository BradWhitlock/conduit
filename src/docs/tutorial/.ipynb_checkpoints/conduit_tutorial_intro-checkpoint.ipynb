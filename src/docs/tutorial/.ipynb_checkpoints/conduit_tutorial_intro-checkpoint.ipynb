{
 "metadata": {
  "name": "",
  "signature": "sha256:76c32ca1ca609c371f6933edcb8f75d098d1b91054ab4dbb4ea800c4ef5a8598"
 },
 "nbformat": 3,
 "nbformat_minor": 0,
 "worksheets": [
  {
   "cells": [
    {
     "cell_type": "code",
     "collapsed": false,
     "input": [
      "%load_ext conduitcppmagic"
     ],
     "language": "python",
     "metadata": {},
     "outputs": [],
     "prompt_number": 1
    },
    {
     "cell_type": "code",
     "collapsed": false,
     "input": [
      "%%conduitcpp\n",
      "\n",
      "//# Node is the primary object in conduit, it is a very dynamic construct\n",
      "\n",
      "Node n;\n",
      "n[\"my\"] = \"data\";\n",
      "n.print(); "
     ],
     "language": "python",
     "metadata": {},
     "outputs": [
      {
       "output_type": "stream",
       "stream": "stdout",
       "text": [
        "{\"my\": \"data\"}\n",
        "\n"
       ]
      }
     ],
     "prompt_number": 11
    },
    {
     "cell_type": "code",
     "collapsed": false,
     "input": [
      "%%conduitcpp\n",
      "\n",
      "//# Node supports hierarchial construction \n",
      "\n",
      "Node n;\n",
      "n[\"my\"] = \"data\";\n",
      "n[\"a/b/c\"] = \"d\";\n",
      "n[\"a\"][\"b\"][\"e\"] = 64.0;\n",
      "n.print();\n",
      "\n",
      "\n",
      "//# Node manages a collection of memory spaces\n",
      "Node ninfo;\n",
      "n.info(ninfo);\n",
      "ninfo.print();\n",
      "\n"
     ],
     "language": "python",
     "metadata": {},
     "outputs": [
      {
       "output_type": "stream",
       "stream": "stdout",
       "text": [
        "{\"my\": \"data\", \"a\": {\"b\": {\"c\": \"d\", \"e\": 64}\n",
        "}\n",
        "}\n",
        "\n",
        "{\"mem_spaces\": {\"0x7feabbc03de0\": {\"path\": \"my\", \"type\": \"alloced\", \"bytes\": 5}\n",
        ", \"0x7feabbc04340\": {\"path\": \"a/b/c\", \"type\": \"alloced\", \"bytes\": 2}\n",
        ", \"0x7feabbc04330\": {\"path\": \"a/b/e\", \"type\": \"alloced\", \"bytes\": 8}\n",
        "}\n",
        ", \"total_bytes\": 15, \"total_bytes_compact\": 15, \"total_bytes_alloced\": 15, \"total_bytes_mmaped\": 0}\n",
        "\n"
       ]
      }
     ],
     "prompt_number": 12
    },
    {
     "cell_type": "code",
     "collapsed": false,
     "input": [
      "%%conduitcpp\n",
      "\n",
      "//# Knowing data perc is imporant, bitwidth style types (ala numpy) are key in conduit\n",
      "\n",
      "Node n;\n",
      "uint32 val = 100;\n",
      "n[\"test\"] = val;\n",
      "n.print_detailed();"
     ],
     "language": "python",
     "metadata": {},
     "outputs": [
      {
       "output_type": "stream",
       "stream": "stdout",
       "text": [
        "{\"test\": {\"dtype\":\"uint32\", \"length\": 1, \"endianness\": \"little\", \"value\": 100}}\n",
        "\n"
       ]
      }
     ],
     "prompt_number": 13
    },
    {
     "cell_type": "code",
     "collapsed": false,
     "input": [
      "%%conduitcpp\n",
      "Node n;\n",
      "uint32 val = 100;\n",
      "n[\"test\"] = val;\n",
      "n.print();"
     ],
     "language": "python",
     "metadata": {},
     "outputs": [
      {
       "output_type": "stream",
       "stream": "stdout",
       "text": [
        "{\"test\": 100}\n",
        "\n"
       ]
      }
     ],
     "prompt_number": 8
    },
    {
     "cell_type": "code",
     "collapsed": false,
     "input": [
      "%%conduitcpp\n",
      "\n",
      "//# Generators parse conduit json schemas into nodes\n",
      "\n",
      "Generator g(\"{test: {dtype: float64, value: 100.0}}\",\"conduit\");\n",
      "\n",
      "Node n(g);\n",
      "std::cout << n[\"test\"].as_float64() <<std::endl;\n",
      "n.print();\n",
      "n.print(false);"
     ],
     "language": "python",
     "metadata": {},
     "outputs": [
      {
       "output_type": "stream",
       "stream": "stdout",
       "text": [
        "100\n",
        "{\"test\": 100}\n",
        "\n",
        "{\"test\": {\"dtype\":\"float64\", \"length\": 1, \"endianness\": \"little\", \"value\": 100}}\n",
        "\n"
       ]
      }
     ],
     "prompt_number": 6
    },
    {
     "cell_type": "code",
     "collapsed": false,
     "input": [
      "%%conduitcpp\n",
      "\n",
      "//# There is also an option for parsing pure json (wide types are inferred)\n",
      "\n",
      "Generator g(\"{test: 100.0}\",\"json\");\n",
      "\n",
      "Node n(g);\n",
      "std::cout << n[\"test\"].as_float64() <<std::endl;\n",
      "n.print_detailed();\n",
      "n.print();"
     ],
     "language": "python",
     "metadata": {},
     "outputs": [
      {
       "output_type": "stream",
       "stream": "stdout",
       "text": [
        "100\n",
        "{\"test\": {\"dtype\":\"float64\", \"length\": 1, \"endianness\": \"little\", \"value\": 100}}\n",
        "\n",
        "{\"test\": 100}\n",
        "\n"
       ]
      }
     ],
     "prompt_number": 10
    },
    {
     "cell_type": "code",
     "collapsed": false,
     "input": [
      "%%conduitcpp\n",
      "float64 vals[2];\n",
      "//# Schemas can easily be bound to in-core data\n",
      "\n",
      "Generator g(\"{a: {dtype: float64, value: 100.0}, b: {dtype: float64, value: 200.0} }\",\"conduit\",vals);\n",
      "\n",
      "Node n(g);\n",
      "std::cout << n[\"a\"].as_float64() << \" vs \" << vals[0] << std::endl; \n",
      "std::cout << n[\"b\"].as_float64() << \" vs \" << vals[1] << std::endl; \n",
      "\n",
      "n.print();\n",
      "                \n",
      "Node ninfo;\n",
      "n.info(ninfo);\n",
      "ninfo.print();"
     ],
     "language": "python",
     "metadata": {},
     "outputs": [
      {
       "output_type": "stream",
       "stream": "stdout",
       "text": [
        "100 vs 100\n",
        "200 vs 200\n",
        "{\"a\": 100, \"b\": 200}\n",
        "\n",
        "{\"mem_spaces\": {\"0x7fff567093c0\": {\"path\": \"a\", \"type\": \"external\"}\n",
        "}\n",
        ", \"total_bytes\": 16, \"total_bytes_compact\": 16, \"total_bytes_alloced\": 0, \"total_bytes_mmaped\": 0}\n",
        "\n"
       ]
      }
     ],
     "prompt_number": 9
    },
    {
     "cell_type": "code",
     "collapsed": false,
     "input": [],
     "language": "python",
     "metadata": {},
     "outputs": []
    }
   ],
   "metadata": {}
  }
 ]
}